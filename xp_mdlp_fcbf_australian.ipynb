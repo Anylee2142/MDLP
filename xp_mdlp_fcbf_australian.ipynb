{
 "cells": [
  {
   "cell_type": "code",
   "execution_count": 1,
   "metadata": {},
   "outputs": [],
   "source": [
    "import numpy as np\n",
    "import pandas as pd\n",
    "from sklearn.datasets import load_iris"
   ]
  },
  {
   "cell_type": "code",
   "execution_count": 2,
   "metadata": {},
   "outputs": [],
   "source": [
    "from sklearn.ensemble import RandomForestClassifier\n",
    "from sklearn.model_selection import train_test_split\n",
    "from sklearn.model_selection import GridSearchCV\n",
    "from sklearn.metrics import f1_score, accuracy_score"
   ]
  },
  {
   "cell_type": "code",
   "execution_count": 3,
   "metadata": {},
   "outputs": [],
   "source": [
    "def grid(estimator, scoring, cv, X, y):\n",
    "    return GridSearchCV(\n",
    "    estimator = estimator,\n",
    "    param_grid = params,\n",
    "    cv=cv,\n",
    "    verbose=True,\n",
    "    n_jobs=-3\n",
    "    ).fit(X, y)"
   ]
  },
  {
   "cell_type": "code",
   "execution_count": 4,
   "metadata": {},
   "outputs": [],
   "source": [
    "params = {\n",
    "    \"n_estimators\": [100, 200, 300, 400, 500],\n",
    "    \"criterion\": [\"gini\", \"entropy\"],\n",
    "    \"max_depth\": [3, 4, 5, 6, 7],\n",
    "    \"max_features\": [\"auto\", \"sqrt\", \"log2\"],\n",
    "    \"bootstrap\": [True, False],\n",
    "    \"warm_start\": [True, False]\n",
    "  },"
   ]
  },
  {
   "cell_type": "markdown",
   "metadata": {},
   "source": [
    "# 카테고리 1, 4, 5, 6, 8, 9, 11, 12번째 feature"
   ]
  },
  {
   "cell_type": "code",
   "execution_count": 5,
   "metadata": {},
   "outputs": [
    {
     "data": {
      "text/plain": [
       "8"
      ]
     },
     "execution_count": 5,
     "metadata": {},
     "output_type": "execute_result"
    }
   ],
   "source": [
    "cat_features = ['0', '3', '4', '5', '7', '8', '10', '11']\n",
    "len(cat_features)"
   ]
  },
  {
   "cell_type": "code",
   "execution_count": 6,
   "metadata": {},
   "outputs": [
    {
     "data": {
      "text/html": [
       "<div>\n",
       "<style>\n",
       "    .dataframe thead tr:only-child th {\n",
       "        text-align: right;\n",
       "    }\n",
       "\n",
       "    .dataframe thead th {\n",
       "        text-align: left;\n",
       "    }\n",
       "\n",
       "    .dataframe tbody tr th {\n",
       "        vertical-align: top;\n",
       "    }\n",
       "</style>\n",
       "<table border=\"1\" class=\"dataframe\">\n",
       "  <thead>\n",
       "    <tr style=\"text-align: right;\">\n",
       "      <th></th>\n",
       "      <th>0</th>\n",
       "      <th>1</th>\n",
       "      <th>2</th>\n",
       "      <th>3</th>\n",
       "      <th>4</th>\n",
       "      <th>5</th>\n",
       "      <th>6</th>\n",
       "      <th>7</th>\n",
       "      <th>8</th>\n",
       "      <th>9</th>\n",
       "      <th>10</th>\n",
       "      <th>11</th>\n",
       "      <th>12</th>\n",
       "      <th>13</th>\n",
       "      <th>14</th>\n",
       "    </tr>\n",
       "  </thead>\n",
       "  <tbody>\n",
       "    <tr>\n",
       "      <th>0</th>\n",
       "      <td>1</td>\n",
       "      <td>22.08</td>\n",
       "      <td>11.46</td>\n",
       "      <td>2</td>\n",
       "      <td>4</td>\n",
       "      <td>4</td>\n",
       "      <td>1.585</td>\n",
       "      <td>0</td>\n",
       "      <td>0</td>\n",
       "      <td>0</td>\n",
       "      <td>1</td>\n",
       "      <td>2</td>\n",
       "      <td>100</td>\n",
       "      <td>1213</td>\n",
       "      <td>0</td>\n",
       "    </tr>\n",
       "    <tr>\n",
       "      <th>1</th>\n",
       "      <td>0</td>\n",
       "      <td>22.67</td>\n",
       "      <td>7.00</td>\n",
       "      <td>2</td>\n",
       "      <td>8</td>\n",
       "      <td>4</td>\n",
       "      <td>0.165</td>\n",
       "      <td>0</td>\n",
       "      <td>0</td>\n",
       "      <td>0</td>\n",
       "      <td>0</td>\n",
       "      <td>2</td>\n",
       "      <td>160</td>\n",
       "      <td>1</td>\n",
       "      <td>0</td>\n",
       "    </tr>\n",
       "    <tr>\n",
       "      <th>2</th>\n",
       "      <td>0</td>\n",
       "      <td>29.58</td>\n",
       "      <td>1.75</td>\n",
       "      <td>1</td>\n",
       "      <td>4</td>\n",
       "      <td>4</td>\n",
       "      <td>1.250</td>\n",
       "      <td>0</td>\n",
       "      <td>0</td>\n",
       "      <td>0</td>\n",
       "      <td>1</td>\n",
       "      <td>2</td>\n",
       "      <td>280</td>\n",
       "      <td>1</td>\n",
       "      <td>0</td>\n",
       "    </tr>\n",
       "    <tr>\n",
       "      <th>3</th>\n",
       "      <td>0</td>\n",
       "      <td>21.67</td>\n",
       "      <td>11.50</td>\n",
       "      <td>1</td>\n",
       "      <td>5</td>\n",
       "      <td>3</td>\n",
       "      <td>0.000</td>\n",
       "      <td>1</td>\n",
       "      <td>1</td>\n",
       "      <td>11</td>\n",
       "      <td>1</td>\n",
       "      <td>2</td>\n",
       "      <td>0</td>\n",
       "      <td>1</td>\n",
       "      <td>1</td>\n",
       "    </tr>\n",
       "    <tr>\n",
       "      <th>4</th>\n",
       "      <td>1</td>\n",
       "      <td>20.17</td>\n",
       "      <td>8.17</td>\n",
       "      <td>2</td>\n",
       "      <td>6</td>\n",
       "      <td>4</td>\n",
       "      <td>1.960</td>\n",
       "      <td>1</td>\n",
       "      <td>1</td>\n",
       "      <td>14</td>\n",
       "      <td>0</td>\n",
       "      <td>2</td>\n",
       "      <td>60</td>\n",
       "      <td>159</td>\n",
       "      <td>1</td>\n",
       "    </tr>\n",
       "  </tbody>\n",
       "</table>\n",
       "</div>"
      ],
      "text/plain": [
       "   0      1      2  3  4  5      6  7  8   9  10  11   12    13  14\n",
       "0  1  22.08  11.46  2  4  4  1.585  0  0   0   1   2  100  1213   0\n",
       "1  0  22.67   7.00  2  8  4  0.165  0  0   0   0   2  160     1   0\n",
       "2  0  29.58   1.75  1  4  4  1.250  0  0   0   1   2  280     1   0\n",
       "3  0  21.67  11.50  1  5  3  0.000  1  1  11   1   2    0     1   1\n",
       "4  1  20.17   8.17  2  6  4  1.960  1  1  14   0   2   60   159   1"
      ]
     },
     "execution_count": 6,
     "metadata": {},
     "output_type": "execute_result"
    }
   ],
   "source": [
    "data = pd.read_csv('dataset/australian/data.csv')\n",
    "data.dropna(axis=0, inplace=True)\n",
    "data.head()"
   ]
  },
  {
   "cell_type": "code",
   "execution_count": 7,
   "metadata": {},
   "outputs": [
    {
     "data": {
      "text/plain": [
       "(690, 15)"
      ]
     },
     "execution_count": 7,
     "metadata": {},
     "output_type": "execute_result"
    }
   ],
   "source": [
    "data.shape"
   ]
  },
  {
   "cell_type": "markdown",
   "metadata": {},
   "source": [
    "# 1. discretize each features\n",
    "# 2. fast correlation based filter\n",
    "# 3. check performance\n",
    "- raw vs mdlp = 변화없음\n",
    "- fcbf raw vs fcbf mdlp = ?"
   ]
  },
  {
   "cell_type": "code",
   "execution_count": 8,
   "metadata": {},
   "outputs": [],
   "source": [
    "X = data.iloc[:, :14]\n",
    "y = data['14']"
   ]
  },
  {
   "cell_type": "code",
   "execution_count": 9,
   "metadata": {},
   "outputs": [
    {
     "data": {
      "text/html": [
       "<div>\n",
       "<style>\n",
       "    .dataframe thead tr:only-child th {\n",
       "        text-align: right;\n",
       "    }\n",
       "\n",
       "    .dataframe thead th {\n",
       "        text-align: left;\n",
       "    }\n",
       "\n",
       "    .dataframe tbody tr th {\n",
       "        vertical-align: top;\n",
       "    }\n",
       "</style>\n",
       "<table border=\"1\" class=\"dataframe\">\n",
       "  <thead>\n",
       "    <tr style=\"text-align: right;\">\n",
       "      <th></th>\n",
       "      <th>0</th>\n",
       "      <th>3</th>\n",
       "      <th>4</th>\n",
       "      <th>5</th>\n",
       "      <th>7</th>\n",
       "      <th>8</th>\n",
       "      <th>10</th>\n",
       "      <th>11</th>\n",
       "    </tr>\n",
       "  </thead>\n",
       "  <tbody>\n",
       "    <tr>\n",
       "      <th>0</th>\n",
       "      <td>1</td>\n",
       "      <td>2</td>\n",
       "      <td>4</td>\n",
       "      <td>4</td>\n",
       "      <td>0</td>\n",
       "      <td>0</td>\n",
       "      <td>1</td>\n",
       "      <td>2</td>\n",
       "    </tr>\n",
       "    <tr>\n",
       "      <th>1</th>\n",
       "      <td>0</td>\n",
       "      <td>2</td>\n",
       "      <td>8</td>\n",
       "      <td>4</td>\n",
       "      <td>0</td>\n",
       "      <td>0</td>\n",
       "      <td>0</td>\n",
       "      <td>2</td>\n",
       "    </tr>\n",
       "    <tr>\n",
       "      <th>2</th>\n",
       "      <td>0</td>\n",
       "      <td>1</td>\n",
       "      <td>4</td>\n",
       "      <td>4</td>\n",
       "      <td>0</td>\n",
       "      <td>0</td>\n",
       "      <td>1</td>\n",
       "      <td>2</td>\n",
       "    </tr>\n",
       "    <tr>\n",
       "      <th>3</th>\n",
       "      <td>0</td>\n",
       "      <td>1</td>\n",
       "      <td>5</td>\n",
       "      <td>3</td>\n",
       "      <td>1</td>\n",
       "      <td>1</td>\n",
       "      <td>1</td>\n",
       "      <td>2</td>\n",
       "    </tr>\n",
       "    <tr>\n",
       "      <th>4</th>\n",
       "      <td>1</td>\n",
       "      <td>2</td>\n",
       "      <td>6</td>\n",
       "      <td>4</td>\n",
       "      <td>1</td>\n",
       "      <td>1</td>\n",
       "      <td>0</td>\n",
       "      <td>2</td>\n",
       "    </tr>\n",
       "  </tbody>\n",
       "</table>\n",
       "</div>"
      ],
      "text/plain": [
       "   0  3  4  5  7  8  10  11\n",
       "0  1  2  4  4  0  0   1   2\n",
       "1  0  2  8  4  0  0   0   2\n",
       "2  0  1  4  4  0  0   1   2\n",
       "3  0  1  5  3  1  1   1   2\n",
       "4  1  2  6  4  1  1   0   2"
      ]
     },
     "execution_count": 9,
     "metadata": {},
     "output_type": "execute_result"
    }
   ],
   "source": [
    "cat_X = data.loc[:, cat_features]\n",
    "cat_X.head()"
   ]
  },
  {
   "cell_type": "code",
   "execution_count": 10,
   "metadata": {},
   "outputs": [
    {
     "data": {
      "text/plain": [
       "{'1', '12', '13', '2', '6', '9'}"
      ]
     },
     "execution_count": 10,
     "metadata": {},
     "output_type": "execute_result"
    }
   ],
   "source": [
    "con_features = set(X.columns) - set(cat_features)\n",
    "con_features"
   ]
  },
  {
   "cell_type": "code",
   "execution_count": 11,
   "metadata": {},
   "outputs": [
    {
     "data": {
      "text/html": [
       "<div>\n",
       "<style>\n",
       "    .dataframe thead tr:only-child th {\n",
       "        text-align: right;\n",
       "    }\n",
       "\n",
       "    .dataframe thead th {\n",
       "        text-align: left;\n",
       "    }\n",
       "\n",
       "    .dataframe tbody tr th {\n",
       "        vertical-align: top;\n",
       "    }\n",
       "</style>\n",
       "<table border=\"1\" class=\"dataframe\">\n",
       "  <thead>\n",
       "    <tr style=\"text-align: right;\">\n",
       "      <th></th>\n",
       "      <th>12</th>\n",
       "      <th>2</th>\n",
       "      <th>1</th>\n",
       "      <th>6</th>\n",
       "      <th>13</th>\n",
       "      <th>9</th>\n",
       "    </tr>\n",
       "  </thead>\n",
       "  <tbody>\n",
       "    <tr>\n",
       "      <th>0</th>\n",
       "      <td>100</td>\n",
       "      <td>11.46</td>\n",
       "      <td>22.08</td>\n",
       "      <td>1.585</td>\n",
       "      <td>1213</td>\n",
       "      <td>0</td>\n",
       "    </tr>\n",
       "    <tr>\n",
       "      <th>1</th>\n",
       "      <td>160</td>\n",
       "      <td>7.00</td>\n",
       "      <td>22.67</td>\n",
       "      <td>0.165</td>\n",
       "      <td>1</td>\n",
       "      <td>0</td>\n",
       "    </tr>\n",
       "    <tr>\n",
       "      <th>2</th>\n",
       "      <td>280</td>\n",
       "      <td>1.75</td>\n",
       "      <td>29.58</td>\n",
       "      <td>1.250</td>\n",
       "      <td>1</td>\n",
       "      <td>0</td>\n",
       "    </tr>\n",
       "    <tr>\n",
       "      <th>3</th>\n",
       "      <td>0</td>\n",
       "      <td>11.50</td>\n",
       "      <td>21.67</td>\n",
       "      <td>0.000</td>\n",
       "      <td>1</td>\n",
       "      <td>11</td>\n",
       "    </tr>\n",
       "    <tr>\n",
       "      <th>4</th>\n",
       "      <td>60</td>\n",
       "      <td>8.17</td>\n",
       "      <td>20.17</td>\n",
       "      <td>1.960</td>\n",
       "      <td>159</td>\n",
       "      <td>14</td>\n",
       "    </tr>\n",
       "  </tbody>\n",
       "</table>\n",
       "</div>"
      ],
      "text/plain": [
       "    12      2      1      6    13   9\n",
       "0  100  11.46  22.08  1.585  1213   0\n",
       "1  160   7.00  22.67  0.165     1   0\n",
       "2  280   1.75  29.58  1.250     1   0\n",
       "3    0  11.50  21.67  0.000     1  11\n",
       "4   60   8.17  20.17  1.960   159  14"
      ]
     },
     "execution_count": 11,
     "metadata": {},
     "output_type": "execute_result"
    }
   ],
   "source": [
    "con_X = data.loc[:, con_features]\n",
    "con_X.head()"
   ]
  },
  {
   "cell_type": "code",
   "execution_count": 12,
   "metadata": {},
   "outputs": [],
   "source": [
    "from discretization.mdlp import *\n",
    "mdlp = MDLP(con_features=con_features, base=2, max_cutpoints=5)"
   ]
  },
  {
   "cell_type": "code",
   "execution_count": 13,
   "metadata": {},
   "outputs": [],
   "source": [
    "con_X_dis = mdlp.fit_transform(con_X, y)"
   ]
  },
  {
   "cell_type": "code",
   "execution_count": 14,
   "metadata": {},
   "outputs": [],
   "source": [
    "X_dis = pd.concat([cat_X, con_X_dis], axis=1)"
   ]
  },
  {
   "cell_type": "code",
   "execution_count": 17,
   "metadata": {},
   "outputs": [],
   "source": [
    "estimator = RandomForestClassifier()"
   ]
  },
  {
   "cell_type": "code",
   "execution_count": 18,
   "metadata": {},
   "outputs": [
    {
     "name": "stdout",
     "output_type": "stream",
     "text": [
      "Fitting 10 folds for each of 600 candidates, totalling 6000 fits\n"
     ]
    },
    {
     "name": "stderr",
     "output_type": "stream",
     "text": [
      "[Parallel(n_jobs=-3)]: Done  60 tasks      | elapsed:    1.9s\n",
      "[Parallel(n_jobs=-3)]: Done 378 tasks      | elapsed:   13.8s\n",
      "[Parallel(n_jobs=-3)]: Done 628 tasks      | elapsed:   23.2s\n",
      "[Parallel(n_jobs=-3)]: Done 978 tasks      | elapsed:   37.6s\n",
      "[Parallel(n_jobs=-3)]: Done 1428 tasks      | elapsed:   55.8s\n",
      "[Parallel(n_jobs=-3)]: Done 1978 tasks      | elapsed:  1.3min\n",
      "[Parallel(n_jobs=-3)]: Done 2628 tasks      | elapsed:  1.8min\n",
      "[Parallel(n_jobs=-3)]: Done 3378 tasks      | elapsed:  2.3min\n",
      "[Parallel(n_jobs=-3)]: Done 4228 tasks      | elapsed:  2.9min\n",
      "[Parallel(n_jobs=-3)]: Done 5178 tasks      | elapsed:  3.6min\n",
      "[Parallel(n_jobs=-3)]: Done 6000 out of 6000 | elapsed:  4.3min finished\n"
     ]
    }
   ],
   "source": [
    "grid_search = grid(estimator, 'accuracy', 10, X, y)"
   ]
  },
  {
   "cell_type": "code",
   "execution_count": 19,
   "metadata": {},
   "outputs": [
    {
     "data": {
      "text/plain": [
       "0.86956521739130432"
      ]
     },
     "execution_count": 19,
     "metadata": {},
     "output_type": "execute_result"
    }
   ],
   "source": [
    "grid_search.best_score_"
   ]
  },
  {
   "cell_type": "code",
   "execution_count": 20,
   "metadata": {},
   "outputs": [
    {
     "name": "stdout",
     "output_type": "stream",
     "text": [
      "Fitting 10 folds for each of 600 candidates, totalling 6000 fits\n"
     ]
    },
    {
     "name": "stderr",
     "output_type": "stream",
     "text": [
      "[Parallel(n_jobs=-3)]: Done  60 tasks      | elapsed:    1.9s\n",
      "[Parallel(n_jobs=-3)]: Done 310 tasks      | elapsed:   11.2s\n",
      "[Parallel(n_jobs=-3)]: Done 560 tasks      | elapsed:   20.5s\n",
      "[Parallel(n_jobs=-3)]: Done 910 tasks      | elapsed:   34.8s\n",
      "[Parallel(n_jobs=-3)]: Done 1360 tasks      | elapsed:   53.2s\n",
      "[Parallel(n_jobs=-3)]: Done 1910 tasks      | elapsed:  1.3min\n",
      "[Parallel(n_jobs=-3)]: Done 2560 tasks      | elapsed:  1.7min\n",
      "[Parallel(n_jobs=-3)]: Done 3310 tasks      | elapsed:  2.3min\n",
      "[Parallel(n_jobs=-3)]: Done 4160 tasks      | elapsed:  2.9min\n",
      "[Parallel(n_jobs=-3)]: Done 5110 tasks      | elapsed:  3.6min\n",
      "[Parallel(n_jobs=-3)]: Done 6000 out of 6000 | elapsed:  4.3min finished\n"
     ]
    }
   ],
   "source": [
    "grid_search = grid(estimator, 'f1', 10, X, y)"
   ]
  },
  {
   "cell_type": "code",
   "execution_count": 21,
   "metadata": {},
   "outputs": [
    {
     "data": {
      "text/plain": [
       "0.86956521739130432"
      ]
     },
     "execution_count": 21,
     "metadata": {},
     "output_type": "execute_result"
    }
   ],
   "source": [
    "grid_search.best_score_"
   ]
  },
  {
   "cell_type": "code",
   "execution_count": null,
   "metadata": {},
   "outputs": [],
   "source": []
  },
  {
   "cell_type": "code",
   "execution_count": 22,
   "metadata": {},
   "outputs": [
    {
     "name": "stdout",
     "output_type": "stream",
     "text": [
      "Fitting 10 folds for each of 600 candidates, totalling 6000 fits\n"
     ]
    },
    {
     "name": "stderr",
     "output_type": "stream",
     "text": [
      "[Parallel(n_jobs=-3)]: Done  60 tasks      | elapsed:    1.8s\n",
      "[Parallel(n_jobs=-3)]: Done 311 tasks      | elapsed:   10.9s\n",
      "[Parallel(n_jobs=-3)]: Done 561 tasks      | elapsed:   19.7s\n",
      "[Parallel(n_jobs=-3)]: Done 911 tasks      | elapsed:   33.3s\n",
      "[Parallel(n_jobs=-3)]: Done 1361 tasks      | elapsed:   50.4s\n",
      "[Parallel(n_jobs=-3)]: Done 1911 tasks      | elapsed:  1.2min\n",
      "[Parallel(n_jobs=-3)]: Done 2561 tasks      | elapsed:  1.6min\n",
      "[Parallel(n_jobs=-3)]: Done 3311 tasks      | elapsed:  2.1min\n",
      "[Parallel(n_jobs=-3)]: Done 4161 tasks      | elapsed:  2.6min\n",
      "[Parallel(n_jobs=-3)]: Done 5111 tasks      | elapsed:  3.2min\n",
      "[Parallel(n_jobs=-3)]: Done 6000 out of 6000 | elapsed:  3.8min finished\n"
     ]
    }
   ],
   "source": [
    "grid_search = grid(estimator, 'accuracy', 10, X_dis, y)"
   ]
  },
  {
   "cell_type": "code",
   "execution_count": 23,
   "metadata": {},
   "outputs": [
    {
     "data": {
      "text/plain": [
       "0.86811594202898545"
      ]
     },
     "execution_count": 23,
     "metadata": {},
     "output_type": "execute_result"
    }
   ],
   "source": [
    "grid_search.best_score_"
   ]
  },
  {
   "cell_type": "code",
   "execution_count": 24,
   "metadata": {},
   "outputs": [
    {
     "name": "stdout",
     "output_type": "stream",
     "text": [
      "Fitting 10 folds for each of 600 candidates, totalling 6000 fits\n"
     ]
    },
    {
     "name": "stderr",
     "output_type": "stream",
     "text": [
      "[Parallel(n_jobs=-3)]: Done  60 tasks      | elapsed:    1.9s\n",
      "[Parallel(n_jobs=-3)]: Done 324 tasks      | elapsed:   11.4s\n",
      "[Parallel(n_jobs=-3)]: Done 574 tasks      | elapsed:   20.7s\n",
      "[Parallel(n_jobs=-3)]: Done 924 tasks      | elapsed:   33.7s\n",
      "[Parallel(n_jobs=-3)]: Done 1374 tasks      | elapsed:   52.4s\n",
      "[Parallel(n_jobs=-3)]: Done 1924 tasks      | elapsed:  1.2min\n",
      "[Parallel(n_jobs=-3)]: Done 2574 tasks      | elapsed:  1.7min\n",
      "[Parallel(n_jobs=-3)]: Done 3324 tasks      | elapsed:  2.2min\n",
      "[Parallel(n_jobs=-3)]: Done 4174 tasks      | elapsed:  2.7min\n",
      "[Parallel(n_jobs=-3)]: Done 5124 tasks      | elapsed:  3.3min\n",
      "[Parallel(n_jobs=-3)]: Done 6000 out of 6000 | elapsed:  3.9min finished\n"
     ]
    }
   ],
   "source": [
    "grid_search = grid(estimator, 'f1', 10, X_dis, y)"
   ]
  },
  {
   "cell_type": "code",
   "execution_count": 25,
   "metadata": {},
   "outputs": [
    {
     "data": {
      "text/plain": [
       "0.86956521739130432"
      ]
     },
     "execution_count": 25,
     "metadata": {},
     "output_type": "execute_result"
    }
   ],
   "source": [
    "grid_search.best_score_"
   ]
  },
  {
   "cell_type": "code",
   "execution_count": null,
   "metadata": {},
   "outputs": [],
   "source": []
  },
  {
   "cell_type": "code",
   "execution_count": 26,
   "metadata": {},
   "outputs": [],
   "source": [
    "from fcbf.feature_selection import *\n",
    "selected = fcbf(X_dis, y, base=2)"
   ]
  },
  {
   "cell_type": "code",
   "execution_count": 27,
   "metadata": {},
   "outputs": [
    {
     "data": {
      "text/plain": [
       "[('7', 0.42791772566979708),\n",
       " ('9', 0.17871573608333077),\n",
       " ('13', 0.12403498302183787),\n",
       " ('6', 0.11060370163391238),\n",
       " ('4', 0.048648934269122118),\n",
       " ('12', 0.039026327090565603),\n",
       " ('3', 0.032757270846763803)]"
      ]
     },
     "execution_count": 27,
     "metadata": {},
     "output_type": "execute_result"
    }
   ],
   "source": [
    "selected_features = selected[0]\n",
    "selected_features"
   ]
  },
  {
   "cell_type": "code",
   "execution_count": 28,
   "metadata": {},
   "outputs": [
    {
     "data": {
      "text/plain": [
       "{'12': [],\n",
       " '13': [],\n",
       " '4': [],\n",
       " '6': [],\n",
       " '7': [{'2': 0.043777054762339319},\n",
       "  {'5': 0.03966521895353995},\n",
       "  {'1': 0.033779660239261343},\n",
       "  {'11': 0.025721196772722429},\n",
       "  {'10': 0.0060414211863744635}],\n",
       " '9': [{'8': 0.82653374883879427}, {'0': 0.0025244982201832471}]}"
      ]
     },
     "execution_count": 28,
     "metadata": {},
     "output_type": "execute_result"
    }
   ],
   "source": [
    "remove_history = selected[1]\n",
    "remove_history"
   ]
  },
  {
   "cell_type": "code",
   "execution_count": 29,
   "metadata": {},
   "outputs": [],
   "source": [
    "best_features = ['7', '9', '13', '6']"
   ]
  },
  {
   "cell_type": "code",
   "execution_count": 30,
   "metadata": {},
   "outputs": [
    {
     "name": "stdout",
     "output_type": "stream",
     "text": [
      "Fitting 10 folds for each of 600 candidates, totalling 6000 fits\n"
     ]
    },
    {
     "name": "stderr",
     "output_type": "stream",
     "text": [
      "[Parallel(n_jobs=-3)]: Done  60 tasks      | elapsed:    1.9s\n",
      "[Parallel(n_jobs=-3)]: Done 306 tasks      | elapsed:   11.4s\n",
      "[Parallel(n_jobs=-3)]: Done 556 tasks      | elapsed:   20.6s\n",
      "[Parallel(n_jobs=-3)]: Done 906 tasks      | elapsed:   35.0s\n",
      "[Parallel(n_jobs=-3)]: Done 1356 tasks      | elapsed:   53.1s\n",
      "[Parallel(n_jobs=-3)]: Done 1906 tasks      | elapsed:  1.3min\n",
      "[Parallel(n_jobs=-3)]: Done 2556 tasks      | elapsed:  1.7min\n",
      "[Parallel(n_jobs=-3)]: Done 3306 tasks      | elapsed:  2.2min\n",
      "[Parallel(n_jobs=-3)]: Done 4156 tasks      | elapsed:  2.8min\n",
      "[Parallel(n_jobs=-3)]: Done 5106 tasks      | elapsed:  3.5min\n",
      "[Parallel(n_jobs=-3)]: Done 6000 out of 6000 | elapsed:  4.2min finished\n"
     ]
    }
   ],
   "source": [
    "grid_search = grid(estimator, 'accuracy', 10, X.loc[:,best_features], y)"
   ]
  },
  {
   "cell_type": "code",
   "execution_count": 31,
   "metadata": {},
   "outputs": [
    {
     "data": {
      "text/plain": [
       "0.85797101449275359"
      ]
     },
     "execution_count": 31,
     "metadata": {},
     "output_type": "execute_result"
    }
   ],
   "source": [
    "grid_search.best_score_"
   ]
  },
  {
   "cell_type": "code",
   "execution_count": 32,
   "metadata": {},
   "outputs": [
    {
     "name": "stdout",
     "output_type": "stream",
     "text": [
      "Fitting 10 folds for each of 600 candidates, totalling 6000 fits\n"
     ]
    },
    {
     "name": "stderr",
     "output_type": "stream",
     "text": [
      "[Parallel(n_jobs=-3)]: Done  40 tasks      | elapsed:    0.8s\n",
      "[Parallel(n_jobs=-3)]: Done 249 tasks      | elapsed:    8.5s\n",
      "[Parallel(n_jobs=-3)]: Done 499 tasks      | elapsed:   18.7s\n",
      "[Parallel(n_jobs=-3)]: Done 849 tasks      | elapsed:   31.7s\n",
      "[Parallel(n_jobs=-3)]: Done 1299 tasks      | elapsed:   50.4s\n",
      "[Parallel(n_jobs=-3)]: Done 1849 tasks      | elapsed:  1.2min\n",
      "[Parallel(n_jobs=-3)]: Done 2499 tasks      | elapsed:  1.7min\n",
      "[Parallel(n_jobs=-3)]: Done 3249 tasks      | elapsed:  2.2min\n",
      "[Parallel(n_jobs=-3)]: Done 4099 tasks      | elapsed:  2.7min\n",
      "[Parallel(n_jobs=-3)]: Done 5049 tasks      | elapsed:  3.4min\n",
      "[Parallel(n_jobs=-3)]: Done 6000 out of 6000 | elapsed:  4.1min finished\n"
     ]
    }
   ],
   "source": [
    "grid_search = grid(estimator, 'f1', 10, X.loc[:,best_features], y)"
   ]
  },
  {
   "cell_type": "code",
   "execution_count": 33,
   "metadata": {},
   "outputs": [
    {
     "data": {
      "text/plain": [
       "0.85652173913043483"
      ]
     },
     "execution_count": 33,
     "metadata": {},
     "output_type": "execute_result"
    }
   ],
   "source": [
    "grid_search.best_score_"
   ]
  },
  {
   "cell_type": "code",
   "execution_count": null,
   "metadata": {},
   "outputs": [],
   "source": []
  },
  {
   "cell_type": "code",
   "execution_count": 34,
   "metadata": {},
   "outputs": [
    {
     "name": "stdout",
     "output_type": "stream",
     "text": [
      "Fitting 10 folds for each of 600 candidates, totalling 6000 fits\n"
     ]
    },
    {
     "name": "stderr",
     "output_type": "stream",
     "text": [
      "[Parallel(n_jobs=-3)]: Done  60 tasks      | elapsed:    1.8s\n",
      "[Parallel(n_jobs=-3)]: Done 321 tasks      | elapsed:   10.9s\n",
      "[Parallel(n_jobs=-3)]: Done 571 tasks      | elapsed:   19.9s\n",
      "[Parallel(n_jobs=-3)]: Done 921 tasks      | elapsed:   32.4s\n",
      "[Parallel(n_jobs=-3)]: Done 1371 tasks      | elapsed:   49.2s\n",
      "[Parallel(n_jobs=-3)]: Done 1921 tasks      | elapsed:  1.2min\n",
      "[Parallel(n_jobs=-3)]: Done 2571 tasks      | elapsed:  1.6min\n",
      "[Parallel(n_jobs=-3)]: Done 3321 tasks      | elapsed:  2.0min\n",
      "[Parallel(n_jobs=-3)]: Done 4171 tasks      | elapsed:  2.5min\n",
      "[Parallel(n_jobs=-3)]: Done 5121 tasks      | elapsed:  3.1min\n",
      "[Parallel(n_jobs=-3)]: Done 6000 out of 6000 | elapsed:  3.6min finished\n"
     ]
    }
   ],
   "source": [
    "grid_search = grid(estimator, 'accuracy', 10, X_dis.loc[:, best_features], y)"
   ]
  },
  {
   "cell_type": "code",
   "execution_count": 35,
   "metadata": {},
   "outputs": [
    {
     "data": {
      "text/plain": [
       "0.8623188405797102"
      ]
     },
     "execution_count": 35,
     "metadata": {},
     "output_type": "execute_result"
    }
   ],
   "source": [
    "grid_search.best_score_"
   ]
  },
  {
   "cell_type": "code",
   "execution_count": 36,
   "metadata": {},
   "outputs": [
    {
     "name": "stdout",
     "output_type": "stream",
     "text": [
      "Fitting 10 folds for each of 600 candidates, totalling 6000 fits\n"
     ]
    },
    {
     "name": "stderr",
     "output_type": "stream",
     "text": [
      "[Parallel(n_jobs=-3)]: Done  60 tasks      | elapsed:    1.8s\n",
      "[Parallel(n_jobs=-3)]: Done 306 tasks      | elapsed:   11.5s\n",
      "[Parallel(n_jobs=-3)]: Done 556 tasks      | elapsed:   20.0s\n",
      "[Parallel(n_jobs=-3)]: Done 906 tasks      | elapsed:   33.5s\n",
      "[Parallel(n_jobs=-3)]: Done 1356 tasks      | elapsed:   49.9s\n",
      "[Parallel(n_jobs=-3)]: Done 1906 tasks      | elapsed:  1.2min\n",
      "[Parallel(n_jobs=-3)]: Done 2556 tasks      | elapsed:  1.6min\n",
      "[Parallel(n_jobs=-3)]: Done 3306 tasks      | elapsed:  2.0min\n",
      "[Parallel(n_jobs=-3)]: Done 4156 tasks      | elapsed:  2.5min\n",
      "[Parallel(n_jobs=-3)]: Done 5106 tasks      | elapsed:  3.1min\n",
      "[Parallel(n_jobs=-3)]: Done 6000 out of 6000 | elapsed:  3.7min finished\n"
     ]
    }
   ],
   "source": [
    "grid_search = grid(estimator, 'f1', 10, X_dis.loc[:, best_features], y)"
   ]
  },
  {
   "cell_type": "code",
   "execution_count": 37,
   "metadata": {},
   "outputs": [
    {
     "data": {
      "text/plain": [
       "0.86376811594202896"
      ]
     },
     "execution_count": 37,
     "metadata": {},
     "output_type": "execute_result"
    }
   ],
   "source": [
    "grid_search.best_score_"
   ]
  },
  {
   "cell_type": "markdown",
   "metadata": {},
   "source": [
    "# whether to use mdlp or not\n",
    "> 성능에 그렇게 큰 차이는 없다\n",
    "\n",
    "# whether to use correlation based filter feature selection\n",
    "> 전부를 쓰던 추출한 일부를 쓰던 성능에 그렇게 큰 차이는 없다"
   ]
  }
 ],
 "metadata": {
  "kernelspec": {
   "display_name": "Python 3",
   "language": "python",
   "name": "python3"
  },
  "language_info": {
   "codemirror_mode": {
    "name": "ipython",
    "version": 3
   },
   "file_extension": ".py",
   "mimetype": "text/x-python",
   "name": "python",
   "nbconvert_exporter": "python",
   "pygments_lexer": "ipython3",
   "version": "3.7.1"
  }
 },
 "nbformat": 4,
 "nbformat_minor": 2
}
